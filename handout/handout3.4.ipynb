{
 "cells": [
  {
   "cell_type": "markdown",
   "metadata": {},
   "source": [
    "# 1. Bubble Sort"
   ]
  },
  {
   "cell_type": "code",
   "execution_count": null,
   "metadata": {},
   "outputs": [],
   "source": [
    "public static void bubbleSort(int[] arr) {\n",
    "    int n = arr.length;\n",
    "    for (int i = 0; i < n - 1; i++) {\n",
    "        for int j = 0; j < n - i - 1; j++) {\n",
    "            if (arr[j] > arr[j + 1]) {\n",
    "                int temp = arr[j];\n",
    "                arr[j] = arr[j + 1];\n",
    "                arr[j + 1] = temp;\n",
    "            }\n",
    "    }\n",
    "}"
   ]
  },
  {
   "cell_type": "markdown",
   "metadata": {},
   "source": [
    "# 2. Insertion Sort"
   ]
  },
  {
   "cell_type": "code",
   "execution_count": null,
   "metadata": {},
   "outputs": [],
   "source": [
    "public static void insertionSort(int[] arr) {\n",
    "    int n = arr.length;\n",
    "    for (int i = 1; i < n; i++) {\n",
    "        int key = arr[i];\n",
    "        int j = i - 1;\n",
    "        while (j >= 0 && arr[j] > key) {\n",
    "            arr[j + 1] = arr[j];\n",
    "            j--;\n",
    "        }\n",
    "        arr[j + 1] = key;\n",
    "    }\n",
    "}"
   ]
  },
  {
   "cell_type": "markdown",
   "metadata": {},
   "source": [
    "# 3. Selection Sort"
   ]
  },
  {
   "cell_type": "code",
   "execution_count": null,
   "metadata": {},
   "outputs": [],
   "source": [
    "public static void selectionSort(int[] arr) {\n",
    "    int n = arr.length\n",
    "    for (int i = 0; i < n - 1; i++) {\n",
    "        int index = i;\n",
    "        for (int j = i + 1; j < n; j++) {\n",
    "            if (arr[j] < arr[index]) {\n",
    "                minIndex = j;\n",
    "            }\n",
    "        }\n",
    "        int temp = arr[index];\n",
    "        arr[index] = arr[i];\n",
    "        arr[i] = temp;\n",
    "    }\n",
    "}"
   ]
  },
  {
   "cell_type": "markdown",
   "metadata": {},
   "source": [
    "# 4. Merge Sort"
   ]
  },
  {
   "cell_type": "code",
   "execution_count": null,
   "metadata": {},
   "outputs": [],
   "source": []
  },
  {
   "cell_type": "markdown",
   "metadata": {},
   "source": [
    "# 5. Quick Sort"
   ]
  },
  {
   "cell_type": "code",
   "execution_count": null,
   "metadata": {},
   "outputs": [],
   "source": []
  }
 ],
 "metadata": {
  "kernelspec": {
   "display_name": "Java",
   "language": "java",
   "name": "java"
  },
  "language_info": {
   "name": "java"
  }
 },
 "nbformat": 4,
 "nbformat_minor": 2
}
