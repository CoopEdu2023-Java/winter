{
 "cells": [
  {
   "cell_type": "markdown",
   "metadata": {},
   "source": [
    "# 1. Bubble Sort"
   ]
  },
  {
   "cell_type": "code",
   "execution_count": null,
   "metadata": {},
   "outputs": [],
   "source": [
    "public static void bubbleSort(int[] arr) {\n",
    "    int n = arr.length;\n",
    "    for (int i = 0; i < n - 1; i++) {\n",
    "        for int j = 0; j < n - i - 1; j++) {\n",
    "            if (arr[j] > arr[j + 1]) {\n",
    "                int temp = arr[j];\n",
    "                arr[j] = arr[j + 1];\n",
    "                arr[j + 1] = temp;\n",
    "            }\n",
    "        }\n",
    "    }\n",
    "}"
   ]
  },
  {
   "cell_type": "markdown",
   "metadata": {},
   "source": [
    "# 2. Insertion Sort"
   ]
  },
  {
   "cell_type": "code",
   "execution_count": null,
   "metadata": {},
   "outputs": [],
   "source": [
    "public static void insertionSort(int[] arr) {\n",
    "    int n = arr.length;\n",
    "    for (int i = 1; i < n; i++) {\n",
    "        int key = arr[i];\n",
    "        int j = i - 1;\n",
    "        while (j >= 0 && arr[j] > key) {\n",
    "            arr[j + 1] = arr[j];\n",
    "            j--;\n",
    "        }\n",
    "        arr[j + 1] = key;\n",
    "    }\n",
    "}"
   ]
  },
  {
   "cell_type": "markdown",
   "metadata": {},
   "source": [
    "# 3. Selection Sort"
   ]
  },
  {
   "cell_type": "code",
   "execution_count": null,
   "metadata": {},
   "outputs": [],
   "source": [
    "public static void selectionSort(int[] arr) {\n",
    "    int n = arr.length\n",
    "    for (int i = 0; i < n - 1; i++) {\n",
    "        int index = i;\n",
    "        for (int j = i + 1; j < n; j++) {\n",
    "            if (arr[j] < arr[index]) {\n",
    "                minIndex = j;\n",
    "            }\n",
    "        }\n",
    "        int temp = arr[index];\n",
    "        arr[index] = arr[i];\n",
    "        arr[i] = temp;\n",
    "    }\n",
    "}"
   ]
  },
  {
   "cell_type": "markdown",
   "metadata": {},
   "source": [
    "# 4. Merge Sort"
   ]
  },
  {
   "cell_type": "code",
   "execution_count": null,
   "metadata": {},
   "outputs": [],
   "source": [
    "public static void mergeSort(int[] arr) {\n",
    "    if (arr.length <= 1) {\n",
    "        return;\n",
    "    }\n",
    "    int mid = arr.length / 2;\n",
    "    int[] l = new int[mid];\n",
    "    int[] r = new int[arr.length - mid];\n",
    "    for (int i = 0; i < mid; i++) {\n",
    "        l[i] = arr[i];\n",
    "    }\n",
    "    for (int i = mid; i < arr.length; i++) {\n",
    "        r[i - mid] = arr[i];\n",
    "    }\n",
    "    mergeSort(l);\n",
    "    mergeSort(r);\n",
    "    merge(arr, l, r);\n",
    "}\n",
    "\n",
    "public static void merge(int[] arr, int[] l, int[] r) {\n",
    "    int i = 0, j = 0, k = 0;\n",
    "    while (i < l.length() && i < r.length()) {\n",
    "        if (l[i] <= r[j]){\n",
    "            arr[k++] = l[i++];\n",
    "        } else {\n",
    "            arr[k++] = r[j++];\n",
    "        }\n",
    "    }\n",
    "    while (i < left.length) {\n",
    "        arr[k++] = l[i++];\n",
    "    }\n",
    "    while (j < right.length) {\n",
    "        arr[k++] = r[j++];\n",
    "    }\n",
    "}"
   ]
  },
  {
   "cell_type": "markdown",
   "metadata": {},
   "source": [
    "# 5. Quick Sort"
   ]
  },
  {
   "cell_type": "code",
   "execution_count": null,
   "metadata": {},
   "outputs": [],
   "source": [
    "static int partition(int array[], int low, int high) {\n",
    "    \n",
    "    int pivot = array[high]; // 基准\n",
    "    int i = low - 1;\n",
    "\n",
    "    for (int j = low; j < high; j++) {\n",
    "      if (array[j] <= pivot) {\n",
    "        i++;\n",
    "        int temp = array[i];\n",
    "        array[i] = array[j];\n",
    "        array[j] = temp;\n",
    "      }\n",
    "    }\n",
    "\n",
    "    int temp = array[i + 1]; // 交换\n",
    "    array[i + 1] = array[high];\n",
    "    array[high] = temp;\n",
    "\n",
    "    // 返回分割完成的点\n",
    "    return (i + 1);\n",
    "  }\n",
    "\n",
    "  static void quickSort(int array[], int low, int high) {\n",
    "    if (low < high) {\n",
    "      int pi = partition(array, low, high);\n",
    "      quickSort(array, low, pi - 1);\n",
    "      quickSort(array, pi + 1, high);\n",
    "    }\n",
    "  }"
   ]
  }
 ],
 "metadata": {
  "kernelspec": {
   "display_name": "Java",
   "language": "java",
   "name": "java"
  },
  "language_info": {
   "name": "java"
  }
 },
 "nbformat": 4,
 "nbformat_minor": 2
}
