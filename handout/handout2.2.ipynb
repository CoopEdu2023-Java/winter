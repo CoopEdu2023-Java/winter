{
 "cells": [
  {
   "cell_type": "markdown",
   "metadata": {},
   "source": [
    "# *Task1*\n",
    "*Implement following classes according to the requirements:*\n",
    "- ***Teacher**: Teachers can teach students.*\n",
    "- ***Staff**: Staff can work and get paid.*\n",
    "- ***Principal**: Principal can make the school better.*"
   ]
  },
  {
   "cell_type": "code",
   "execution_count": 1,
   "metadata": {
    "vscode": {
     "languageId": "java"
    }
   },
   "outputs": [],
   "source": [
    "class Teacher{\n",
    "    public void teach(){}\n",
    "}\n",
    "\n",
    "class Staff{\n",
    "    public void work(){}\n",
    "    public void getPaid(){}\n",
    "}\n",
    "\n",
    "class Principal{\n",
    "    public void makeSchoolBetter(){}\n",
    "}"
   ]
  },
  {
   "cell_type": "markdown",
   "metadata": {},
   "source": [
    "# 1. Abstract Class"
   ]
  },
  {
   "cell_type": "markdown",
   "metadata": {},
   "source": [
    "##### 1.1 Define an abstract class with a abstract method."
   ]
  },
  {
   "cell_type": "code",
   "execution_count": 2,
   "metadata": {
    "vscode": {
     "languageId": "java"
    }
   },
   "outputs": [],
   "source": [
    "abstract class A{\n",
    "    abstract public void a();\n",
    "}"
   ]
  },
  {
   "cell_type": "markdown",
   "metadata": {},
   "source": [
    "##### 1.2 Write an inherited class."
   ]
  },
  {
   "cell_type": "code",
   "execution_count": null,
   "metadata": {
    "vscode": {
     "languageId": "java"
    }
   },
   "outputs": [],
   "source": [
    "class B extends A{\n",
    "    @Override\n",
    "    public void func(){}\n",
    "}"
   ]
  },
  {
   "cell_type": "markdown",
   "metadata": {},
   "source": [
    "##### 1.3 Design the following classes with abstract class.\n",
    "1. Frog:\n",
    "    - name, age\n",
    "    - eat bugs, drink\n",
    "2. Dog:\n",
    "    - name, age\n",
    "    - eat bones, drink\n",
    "3. Sheep:\n",
    "    - name, age\n",
    "    - eat grass, drink"
   ]
  },
  {
   "cell_type": "code",
   "execution_count": 1,
   "metadata": {
    "vscode": {
     "languageId": "java"
    }
   },
   "outputs": [],
   "source": [
    "abstract class Animal{\n",
    "    public abstract void eat();\n",
    "    public void drink(){}\n",
    "}\n",
    "\n",
    "class Frog extends Animal{\n",
    "    public int age;\n",
    "    public String name;\n",
    "    @Override\n",
    "    public void eat(){\n",
    "        System.out.println(\"bugs\");\n",
    "    }\n",
    "}\n",
    "\n",
    "class Dog extends Animal{\n",
    "    public int age;\n",
    "    public String name;\n",
    "    @Override\n",
    "    public void eat(){\n",
    "        System.out.println(\"bones\");\n",
    "    }\n",
    "}\n",
    "\n",
    "class Sheep extends Animal{\n",
    "    public int age;\n",
    "    public String name;\n",
    "    @Override\n",
    "    public void eat(){\n",
    "        System.out.println(\"grass\");\n",
    "    }\n",
    "}"
   ]
  },
  {
   "cell_type": "markdown",
   "metadata": {},
   "source": [
    "# *Task2*\n",
    "*Rewrite task1 using inherited class of an abstract class.*"
   ]
  },
  {
   "cell_type": "code",
   "execution_count": 3,
   "metadata": {
    "vscode": {
     "languageId": "java"
    }
   },
   "outputs": [],
   "source": [
    "abstract class Staff{\n",
    "    public abstract void work();\n",
    "    public abstract void getPaid();\n",
    "}\n",
    "\n",
    "class Teacher extends Staff{\n",
    "    @Override\n",
    "    public void work(){\n",
    "        System.out.println(\"Teach\");\n",
    "    }\n",
    "\n",
    "    @Override\n",
    "    public void getPaid(){}\n",
    "}\n",
    "\n",
    "class Principal extends Staff{\n",
    "    @Override\n",
    "    public void work(){\n",
    "        System.out.println(\"Make school better\");\n",
    "    }\n",
    "\n",
    "    @Override\n",
    "    public void getPaid(){}\n",
    "}\n",
    "\n",
    "/*\n",
    "class Teacher{\n",
    "    public void teach(){}\n",
    "}\n",
    "\n",
    "class Staff{\n",
    "    public void work(){}\n",
    "    public void getPaid(){}\n",
    "}\n",
    "\n",
    "class Principal{\n",
    "    public void makeSchoolBetter(){}\n",
    "}\n",
    "*/"
   ]
  },
  {
   "cell_type": "markdown",
   "metadata": {},
   "source": [
    "# 2. Interface"
   ]
  },
  {
   "cell_type": "markdown",
   "metadata": {},
   "source": [
    "##### 2.1 Define an interface with a abstract method."
   ]
  },
  {
   "cell_type": "code",
   "execution_count": 5,
   "metadata": {
    "vscode": {
     "languageId": "java"
    }
   },
   "outputs": [],
   "source": [
    "interface A{\n",
    "    public abstract void test();\n",
    "}"
   ]
  },
  {
   "cell_type": "markdown",
   "metadata": {},
   "source": [
    "##### 2.2 Write an implementation class."
   ]
  },
  {
   "cell_type": "code",
   "execution_count": null,
   "metadata": {
    "vscode": {
     "languageId": "java"
    }
   },
   "outputs": [],
   "source": [
    "class B implements A{\n",
    "    @Override\n",
    "    public void test(){}\n",
    "}"
   ]
  },
  {
   "cell_type": "markdown",
   "metadata": {},
   "source": [
    "##### 2.3 Design the following classes with interface.\n",
    "1. Frog:\n",
    "    - name, age\n",
    "    - eat bugs, breaststroke\n",
    "2. Dog:\n",
    "    - name, age\n",
    "    - eat bones, dog paddle\n",
    "3. Rabbit:\n",
    "    - name, age\n",
    "    - eat carrots"
   ]
  },
  {
   "cell_type": "code",
   "execution_count": 16,
   "metadata": {
    "vscode": {
     "languageId": "java"
    }
   },
   "outputs": [],
   "source": [
    "interface Eat{\n",
    "    public abstract void eat();\n",
    "}\n",
    "\n",
    "interface Ability{\n",
    "    public abstract void ability();\n",
    "}\n",
    "\n",
    "class Frog implements Ability,Eat{\n",
    "    public int age;\n",
    "    public String name;\n",
    "\n",
    "    @Override\n",
    "    public void eat(){\n",
    "        System.out.println(\"bugs\");\n",
    "    }\n",
    "\n",
    "    @Override\n",
    "    public void ability(){\n",
    "        System.out.println(\"breaststroke\");\n",
    "    }\n",
    "}\n",
    "\n",
    "class Dog implements Ability,Eat{\n",
    "    public int age;\n",
    "    public String name;\n",
    "\n",
    "    @Override\n",
    "    public void eat(){\n",
    "        System.out.println(\"bones\");\n",
    "    }\n",
    "\n",
    "    @Override\n",
    "    public void ability(){\n",
    "        System.out.println(\"dog paddle\");\n",
    "    }\n",
    "}\n",
    "\n",
    "class Rabbit implements Ability,Eat{\n",
    "    public int age;\n",
    "    public String name;\n",
    "\n",
    "    @Override\n",
    "    public void eat(){\n",
    "        System.out.println(\"carrots\");\n",
    "    }\n",
    "\n",
    "    @Override\n",
    "    public void ability(){\n",
    "        System.out.println(\"none\");\n",
    "    }\n",
    "}"
   ]
  },
  {
   "cell_type": "markdown",
   "metadata": {},
   "source": [
    "# *Task3*\n",
    "*Rewrite task2 using implementation class of the interface.*"
   ]
  },
  {
   "cell_type": "code",
   "execution_count": 19,
   "metadata": {
    "vscode": {
     "languageId": "java"
    }
   },
   "outputs": [],
   "source": [
    "interface Staff{\n",
    "    void work();\n",
    "    void getPaid();\n",
    "}\n",
    "\n",
    "class Teacher implements Staff{\n",
    "    @Override\n",
    "    public void work(){\n",
    "        System.out.println(\"Teach\");\n",
    "    }\n",
    "\n",
    "    @Override\n",
    "    public void getPaid(){}\n",
    "}\n",
    "\n",
    "class Principal implements Staff{\n",
    "    @Override\n",
    "    public void work(){\n",
    "        System.out.println(\"Make school better\");\n",
    "    }\n",
    "\n",
    "    @Override\n",
    "    public void getPaid(){}\n",
    "}\n",
    "\n",
    "/*abstract class Staff{\n",
    "    public abstract void work();\n",
    "    public abstract void getPaid();\n",
    "}\n",
    "\n",
    "class Teacher extends Staff{\n",
    "    @Override\n",
    "    public void work(){\n",
    "        System.out.println(\"Teach\");\n",
    "    }\n",
    "\n",
    "    @Override\n",
    "    public void getPaid(){}\n",
    "}\n",
    "\n",
    "class Principal extends Staff{\n",
    "    @Override\n",
    "    public void work(){\n",
    "        System.out.println(\"Make school better\");\n",
    "    }\n",
    "\n",
    "    @Override\n",
    "    public void getPaid(){}\n",
    "}\n",
    "*/"
   ]
  },
  {
   "cell_type": "markdown",
   "metadata": {},
   "source": [
    "# Inheritance, Abstract Class and Interface."
   ]
  },
  {
   "cell_type": "markdown",
   "metadata": {},
   "source": [
    "Implement classes as requirements using inheritance, abstract class and interface.\n",
    "- **Table tennis player**:\n",
    "    - name, age\n",
    "    - play table tennis, speak english\n",
    "- **Basketball player**:\n",
    "    - name, age\n",
    "    - play basketball\n",
    "- **Table tennis coach**:\n",
    "    - name, age\n",
    "    - coach table tennis, speak english\n",
    "- **Basketball coach**:\n",
    "    - name, age\n",
    "    - coach basketball"
   ]
  },
  {
   "cell_type": "code",
   "execution_count": 21,
   "metadata": {
    "vscode": {
     "languageId": "java"
    }
   },
   "outputs": [],
   "source": [
    "interface State{\n",
    "    void skill();\n",
    "    void job();\n",
    "    void lang();\n",
    "}\n",
    "\n",
    "class TableTennisPlayer implements State{\n",
    "    public String name;\n",
    "    public int age;\n",
    "\n",
    "    @Override\n",
    "    public void skill(){\n",
    "        System.out.println(\"Table Tennis\");\n",
    "    }\n",
    "\n",
    "    @Override\n",
    "    public void job(){\n",
    "        System.out.println(\"Player\");\n",
    "    }\n",
    "\n",
    "    @Override\n",
    "    public void lang(){\n",
    "        System.out.println(\"English\");\n",
    "    }\n",
    "}\n",
    "\n",
    "class TableTennisCoach implements State{\n",
    "    public String name;\n",
    "    public int age;\n",
    "\n",
    "    @Override\n",
    "    public void skill(){\n",
    "        System.out.println(\"Table Tennis\");\n",
    "    }\n",
    "\n",
    "    @Override\n",
    "    public void job(){\n",
    "        System.out.println(\"Coach\");\n",
    "    }\n",
    "\n",
    "    @Override\n",
    "    public void lang(){\n",
    "        System.out.println(\"English\");\n",
    "    }\n",
    "}\n",
    "\n",
    "class BasketballPlayer implements State{\n",
    "    public String name;\n",
    "    public int age;\n",
    "\n",
    "    @Override\n",
    "    public void skill(){\n",
    "        System.out.println(\"Basketball\");\n",
    "    }\n",
    "\n",
    "    @Override\n",
    "    public void job(){\n",
    "        System.out.println(\"Player\");\n",
    "    }\n",
    "\n",
    "    @Override\n",
    "    public void lang(){\n",
    "        System.out.println(\"-\");\n",
    "    }\n",
    "}\n",
    "\n",
    "class BasketballCoach implements State{\n",
    "    public String name;\n",
    "    public int age;\n",
    "\n",
    "    @Override\n",
    "    public void skill(){\n",
    "        System.out.println(\"Basketball\");\n",
    "    }\n",
    "\n",
    "    @Override\n",
    "    public void job(){\n",
    "        System.out.println(\"Coach\");\n",
    "    }\n",
    "\n",
    "    @Override\n",
    "    public void lang(){\n",
    "        System.out.println(\"-\");\n",
    "    }\n",
    "}"
   ]
  }
 ],
 "metadata": {
  "kernelspec": {
   "display_name": "Java",
   "language": "java",
   "name": "java"
  },
  "language_info": {
   "codemirror_mode": "java",
   "file_extension": ".jshell",
   "mimetype": "text/x-java-source",
   "name": "Java",
   "pygments_lexer": "java",
   "version": "11.0.24+7-LTS-271"
  }
 },
 "nbformat": 4,
 "nbformat_minor": 2
}
