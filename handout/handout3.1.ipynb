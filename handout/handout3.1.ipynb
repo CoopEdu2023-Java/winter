{
 "cells": [
  {
   "cell_type": "markdown",
   "metadata": {},
   "source": [
    "# 1. Array List"
   ]
  },
  {
   "cell_type": "markdown",
   "metadata": {},
   "source": [
    "##### 1.1 Structure"
   ]
  },
  {
   "cell_type": "code",
   "execution_count": null,
   "metadata": {},
   "outputs": [],
   "source": [
    "class ArrayList{\n",
    "    private Type[] arr;\n",
    "    private int size;\n",
    "    \n",
    "    public ArrayList(int capacity){\n",
    "        this.arr = (Type[]) new int[capacity];\n",
    "        this.size = 0;\n",
    "    }\n",
    "\n",
    "}"
   ]
  },
  {
   "cell_type": "markdown",
   "metadata": {},
   "source": [
    "##### 1.2 Insert"
   ]
  },
  {
   "cell_type": "code",
   "execution_count": null,
   "metadata": {},
   "outputs": [],
   "source": [
    "public void insert(int index, Type value) {\n",
    "    if (index < 0 || index > this.size) {\n",
    "        throw new IndexOutOfBoundsException(\"Index out of bounds\");\n",
    "    }\n",
    "    for (int i = this.size; i > index; i--) {\n",
    "        this.data[i] = this.data[i-1];\n",
    "    }\n",
    "    this.data[index] = (Type[]) value;\n",
    "    this.size++;\n",
    "}"
   ]
  },
  {
   "cell_type": "markdown",
   "metadata": {},
   "source": [
    "##### 1.3 Delete"
   ]
  },
  {
   "cell_type": "code",
   "execution_count": null,
   "metadata": {},
   "outputs": [],
   "source": [
    "public Type delete(int index){\n",
    "    if (index < 0 || index >= this.size){\n",
    "        throw new IndexOutOfBoundsException(\"Index out of bounds\");\n",
    "    }\n",
    "    Type deletedValue = this.data[index];\n",
    "    for (int i = index; i < this.size - 1; i++){\n",
    "        this.data[i] = this.data[i + 1];\n",
    "    }\n",
    "    this.size--;\n",
    "    return deletedValue;\n",
    "}"
   ]
  },
  {
   "cell_type": "markdown",
   "metadata": {},
   "source": [
    "##### 1.4 Get"
   ]
  },
  {
   "cell_type": "code",
   "execution_count": null,
   "metadata": {},
   "outputs": [],
   "source": [
    "public Type get(int index){\n",
    "    if (index < 0 || index >= this.size) {\n",
    "        throw new IndexOutOfBoundsException(\"Index out of bounds\");\n",
    "    }\n",
    "    return this.data[index];\n",
    "}"
   ]
  },
  {
   "cell_type": "markdown",
   "metadata": {},
   "source": [
    "##### 1.5 Set"
   ]
  },
  {
   "cell_type": "code",
   "execution_count": null,
   "metadata": {},
   "outputs": [],
   "source": [
    "public void set(int index, Type value){\n",
    "    if (index < 0 || index >= size) {\n",
    "        throw new IndexOutOfBoundsException(\"Index out of bounds\");\n",
    "    }\n",
    "    this.data[index] = value;\n",
    "}"
   ]
  },
  {
   "cell_type": "markdown",
   "metadata": {},
   "source": [
    "# 2. Linked List"
   ]
  },
  {
   "cell_type": "markdown",
   "metadata": {},
   "source": [
    "##### 2.1 Structure"
   ]
  },
  {
   "cell_type": "code",
   "execution_count": null,
   "metadata": {},
   "outputs": [],
   "source": [
    "class Node{\n",
    "    private int data;\n",
    "    private Node next;\n",
    "\n",
    "    private Node(int data){\n",
    "        this.data = data;\n",
    "        this.next = null;\n",
    "    }\n",
    "}\n",
    "\n",
    "class LinkedList{\n",
    "    private Node head;\n",
    "    private int size;\n",
    "\n",
    "    public LinkedList(){\n",
    "        this.head = null;\n",
    "        this.size = 0;\n",
    "    }\n",
    "}"
   ]
  },
  {
   "cell_type": "markdown",
   "metadata": {},
   "source": [
    "##### 2.2 Insert"
   ]
  },
  {
   "cell_type": "code",
   "execution_count": null,
   "metadata": {},
   "outputs": [],
   "source": [
    "public void insert(int index, int value){\n",
    "    if (index < 0 || index >= size) {\n",
    "        throw new IndexOutOfBoundsException();\n",
    "    }\n",
    "    Node newNode = new Node(value);\n",
    "    if(index == 0){\n",
    "        newNode.next = head;\n",
    "        head = newNode;\n",
    "    }\n",
    "    else{\n",
    "        Node prev = getNode(index - 1)\n",
    "        newNode.next = prev.next;\n",
    "        prev.next = newNode;\n",
    "    }\n",
    "    size++;\n",
    "}"
   ]
  },
  {
   "cell_type": "markdown",
   "metadata": {},
   "source": [
    "##### 2.3 Delete"
   ]
  },
  {
   "cell_type": "code",
   "execution_count": null,
   "metadata": {},
   "outputs": [],
   "source": [
    "public void insert(int index, int value){\n",
    "    if (index < 0 || index >= size) {\n",
    "        throw new IndexOutOfBoundsException();\n",
    "    }\n",
    "    int deletedValue;\n",
    "    if(index == 0){\n",
    "        deletedValue = head.data;\n",
    "        head = head.next;\n",
    "    }\n",
    "    else{\n",
    "        Node prev = getNode(index - 1)\n",
    "        deletedValue = prev.next.data;\n",
    "        prev.next = prev.next.next;\n",
    "    }\n",
    "    size--;\n",
    "    return deletedValue;\n",
    "}"
   ]
  },
  {
   "cell_type": "markdown",
   "metadata": {},
   "source": [
    "##### 2.4 Get"
   ]
  },
  {
   "cell_type": "code",
   "execution_count": null,
   "metadata": {},
   "outputs": [],
   "source": [
    "public get(int index){\n",
    "    if (index < 0 || index >= size) {\n",
    "        throw new IndexOutOfBoundsException(\"Index out of bounds\");\n",
    "    }\n",
    "    Node current = getNode(index);\n",
    "    return current.data;\n",
    "}"
   ]
  },
  {
   "cell_type": "markdown",
   "metadata": {},
   "source": [
    "##### 2.5 Set"
   ]
  },
  {
   "cell_type": "code",
   "execution_count": null,
   "metadata": {},
   "outputs": [],
   "source": [
    "public get(int index, int value){\n",
    "    if (index < 0 || index >= size) {\n",
    "        throw new IndexOutOfBoundsException(\"Index out of bounds\");\n",
    "    }\n",
    "    Node current = getNode(index);\n",
    "    current.data = value;\n",
    "}"
   ]
  },
  {
   "cell_type": "markdown",
   "metadata": {},
   "source": [
    "# 3. Stack"
   ]
  },
  {
   "cell_type": "markdown",
   "metadata": {},
   "source": [
    "##### 3.1 Structure"
   ]
  },
  {
   "cell_type": "code",
   "execution_count": null,
   "metadata": {},
   "outputs": [],
   "source": []
  },
  {
   "cell_type": "markdown",
   "metadata": {},
   "source": [
    "##### 3.2 Push"
   ]
  },
  {
   "cell_type": "code",
   "execution_count": null,
   "metadata": {},
   "outputs": [],
   "source": []
  },
  {
   "cell_type": "markdown",
   "metadata": {},
   "source": [
    "##### 3.3 Pop"
   ]
  },
  {
   "cell_type": "code",
   "execution_count": null,
   "metadata": {},
   "outputs": [],
   "source": []
  },
  {
   "cell_type": "markdown",
   "metadata": {},
   "source": [
    "##### 3.4 Peek"
   ]
  },
  {
   "cell_type": "code",
   "execution_count": null,
   "metadata": {},
   "outputs": [],
   "source": []
  },
  {
   "cell_type": "markdown",
   "metadata": {},
   "source": [
    "# 4. Queue"
   ]
  },
  {
   "cell_type": "markdown",
   "metadata": {},
   "source": [
    "##### 4.1 Structure"
   ]
  },
  {
   "cell_type": "code",
   "execution_count": null,
   "metadata": {},
   "outputs": [],
   "source": []
  },
  {
   "cell_type": "markdown",
   "metadata": {},
   "source": [
    "##### 4.2 Enqueue"
   ]
  },
  {
   "cell_type": "code",
   "execution_count": null,
   "metadata": {},
   "outputs": [],
   "source": []
  },
  {
   "cell_type": "markdown",
   "metadata": {},
   "source": [
    "##### 4.3 Dequeue"
   ]
  },
  {
   "cell_type": "code",
   "execution_count": null,
   "metadata": {},
   "outputs": [],
   "source": []
  },
  {
   "cell_type": "markdown",
   "metadata": {},
   "source": [
    "##### 4.4 Peek"
   ]
  },
  {
   "cell_type": "code",
   "execution_count": null,
   "metadata": {},
   "outputs": [],
   "source": []
  }
 ],
 "metadata": {
  "kernelspec": {
   "display_name": "Java",
   "language": "java",
   "name": "java"
  },
  "language_info": {
   "codemirror_mode": "java",
   "file_extension": ".jshell",
   "mimetype": "text/x-java-source",
   "name": "java",
   "pygments_lexer": "java",
   "version": "11.0.24+7-LTS-271"
  }
 },
 "nbformat": 4,
 "nbformat_minor": 2
}
