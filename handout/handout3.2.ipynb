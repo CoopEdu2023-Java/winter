{
 "cells": [
  {
   "cell_type": "markdown",
   "metadata": {},
   "source": [
    "# 1. Binary Tree"
   ]
  },
  {
   "cell_type": "markdown",
   "metadata": {},
   "source": [
    "##### 1.1 Structure"
   ]
  },
  {
   "cell_type": "code",
   "execution_count": null,
   "metadata": {},
   "outputs": [],
   "source": [
    "class TreeNode {\n",
    "    int value;\n",
    "    TreeNode brother;\n",
    "    TreeNode child;\n",
    "\n",
    "    public TreeNode(int value) {\n",
    "        this.value = value;\n",
    "        this.brother = null;\n",
    "        this.child = null;\n",
    "    }\n",
    "}"
   ]
  },
  {
   "cell_type": "markdown",
   "metadata": {},
   "source": [
    "##### 1.2 Preorder Traversal"
   ]
  },
  {
   "cell_type": "code",
   "execution_count": null,
   "metadata": {},
   "outputs": [],
   "source": [
    "public void preorder(TreeNode node, List<Integer> result) {\n",
    "        if (node == null) {\n",
    "            return;\n",
    "        }\n",
    "        result.add(node.val);\n",
    "        preorder(node.left, result);\n",
    "        preorder(node.right, result);\n",
    "}"
   ]
  },
  {
   "cell_type": "markdown",
   "metadata": {},
   "source": [
    "##### 1.3 Inorder Traversal"
   ]
  },
  {
   "cell_type": "code",
   "execution_count": null,
   "metadata": {},
   "outputs": [],
   "source": [
    "private void inorder(TreeNode node, List<Integer> result) {\n",
    "        if (node == null) {\n",
    "            return;\n",
    "        }\n",
    "        inorder(node.left, result);\n",
    "        result.add(node.val);\n",
    "        inorder(node.right, result);\n",
    "}"
   ]
  },
  {
   "cell_type": "markdown",
   "metadata": {},
   "source": [
    "##### 1.4 Postorder Traversal"
   ]
  },
  {
   "cell_type": "code",
   "execution_count": null,
   "metadata": {},
   "outputs": [],
   "source": [
    "private void postorder(TreeNode node, List<Integer> result) {\n",
    "        if (node == null) {\n",
    "            return;\n",
    "        }\n",
    "        postorder(node.left, result);\n",
    "        postorder(node.right, result);\n",
    "        result.add(node.val);\n",
    "    }"
   ]
  },
  {
   "cell_type": "markdown",
   "metadata": {},
   "source": [
    "##### 1.5 Level order Traversal"
   ]
  },
  {
   "cell_type": "code",
   "execution_count": null,
   "metadata": {},
   "outputs": [],
   "source": [
    "public void levelOrderTraversal(TreeNode root) {\n",
    "    Queue<TreeNode> queue = new LinkedList<>(Arrays.asList(root));\n",
    "    while (!queue.isEmpty()) {\n",
    "        int size = queue.size();\n",
    "        for (int i = 0; i < size; i++) {\n",
    "            TreeNode node = queue.poll();\n",
    "            System.out.println(node.value);\n",
    "            if (node.left != null) {\n",
    "                queue.offer(node.left);\n",
    "            }\n",
    "            if (node.right != null) {\n",
    "                queue.offer(node.right);\n",
    "            }\n",
    "        }\n",
    "    }\n",
    "}"
   ]
  },
  {
   "cell_type": "markdown",
   "metadata": {},
   "source": [
    "# 2. Binary Search Tree"
   ]
  },
  {
   "cell_type": "markdown",
   "metadata": {},
   "source": [
    "##### 2.1 Structure"
   ]
  },
  {
   "cell_type": "code",
   "execution_count": null,
   "metadata": {},
   "outputs": [],
   "source": [
    "class BSTNode<T> {\n",
    "    T value;\n",
    "    BSTNode<T> left;\n",
    "    BSTNode<T> right;\n",
    "\n",
    "    public BSTNode(T x) {\n",
    "        this.value = x;\n",
    "        this.left = null;\n",
    "        this.right = null;\n",
    "    }\n",
    "}"
   ]
  },
  {
   "cell_type": "markdown",
   "metadata": {},
   "source": [
    "##### 2.2 Find"
   ]
  },
  {
   "cell_type": "code",
   "execution_count": null,
   "metadata": {},
   "outputs": [],
   "source": [
    "private boolean find(BSTNode<T> root, T x) {\n",
    "    if (root == null) {\n",
    "        return false;\n",
    "    }\n",
    "    if (x == root.value) {\n",
    "        return true;\n",
    "    }\n",
    "    if (x < root.value) {\n",
    "        return find(root.left, x);\n",
    "    } else {\n",
    "        return find(root.right, x);\n",
    "    }\n",
    "}"
   ]
  },
  {
   "cell_type": "markdown",
   "metadata": {},
   "source": [
    "##### 2.3 Insert"
   ]
  },
  {
   "cell_type": "code",
   "execution_count": null,
   "metadata": {},
   "outputs": [],
   "source": [
    "private BSTNode<T> insert(BSTNode<T> node, T x) {\n",
    "    if (node == null) {\n",
    "        return new BSTNode<>(x);\n",
    "    }\n",
    "    if (x < node.value){\n",
    "        node.left = insert(node.left, x);\n",
    "    } else {\n",
    "        node.right = insert(node.right, x);\n",
    "    }\n",
    "    return node;\n",
    "}"
   ]
  },
  {
   "cell_type": "markdown",
   "metadata": {},
   "source": [
    "##### 2.4 Remove"
   ]
  },
  {
   "cell_type": "code",
   "execution_count": null,
   "metadata": {},
   "outputs": [],
   "source": [
    "private BSTNode<T> delete(BSTNode<T> node, T x){\n",
    "    if (node == null) return null;\n",
    "    if (x < node.value) {\n",
    "        node.left = delete(node.left, x);\n",
    "    } else if (x > node.value) {\n",
    "        node.right = delete(node.right, x);\n",
    "    } else {\n",
    "        if (node.left == null) {\n",
    "            return node.right;\n",
    "        } else if (node.right == null) {\n",
    "            return node.left;\n",
    "        }\n",
    "        node.value = findMin(node.right);\n",
    "        node.right = delete(node.right, node.value)\n",
    "    }\n",
    "    return node;\n",
    "}\n",
    "\n",
    "private T findMin(BSTNode<T> root) {\n",
    "    if (root.left == null) {\n",
    "        return root.value;\n",
    "    }\n",
    "    return findMin(root.left);\n",
    "}"
   ]
  },
  {
   "cell_type": "markdown",
   "metadata": {},
   "source": [
    "# 3. AVL Tree"
   ]
  },
  {
   "cell_type": "markdown",
   "metadata": {},
   "source": [
    "##### 3.1 Structure"
   ]
  },
  {
   "cell_type": "code",
   "execution_count": null,
   "metadata": {},
   "outputs": [],
   "source": [
    "class AVLNode<T> {\n",
    "    T value;\n",
    "    TreeNode left;\n",
    "    TreeNode right;\n",
    "    int height;\n",
    "\n",
    "    public AVLNode(T x) {\n",
    "        this.value = x;\n",
    "        this.left = null;\n",
    "        this.right = null;\n",
    "        this.height = 1;\n",
    "    }\n",
    "\n",
    "    rivate int getBalanceFactor(AVLNode<T> node) {\n",
    "        return getHeight(node.left) - getHeight(node.right);\n",
    "    }\n",
    "\n",
    "    private void updateHeight(AVLNode<T> node) {\n",
    "        node.height = Math.max(getHeight(node.left), getHeight(node.right)) + 1;\n",
    "    }\n",
    "}"
   ]
  },
  {
   "cell_type": "markdown",
   "metadata": {},
   "source": [
    "##### 3.2 Rotate"
   ]
  },
  {
   "cell_type": "code",
   "execution_count": null,
   "metadata": {},
   "outputs": [],
   "source": [
    "private AVLNode<T> leftRotate(AVLNode<T> node) {\n",
    "    AVLNode<T> newNode = node.right;\n",
    "    node.right = newNode.left;\n",
    "    newNode.left = node;\n",
    "    updateHeight(node);\n",
    "    updateHeight(newNode);\n",
    "    return newNode;\n",
    "}\n",
    "\n",
    "private AVLNode<T> rightRotate(AVLNode<T> node) {\n",
    "    AVLNode<T> newNode = node.left;\n",
    "    node.left = newNode.right;\n",
    "    newNode.right = node;\n",
    "    updateHeight(node);\n",
    "    updateHeight(newNode);\n",
    "    return newNode;\n",
    "}\n",
    "\n",
    "private AVLNode<T> balance(AVLNode<T> node) {\n",
    "    int balanceFactor = getBalanceFactor(node);\n",
    "    if (balanceFactor == 2) {\n",
    "        if (getBalanceFactor(node.left) == 1) {\n",
    "            return rightRotate(node);\n",
    "        } else if (getBalanceFactor(node.left) == -1) {\n",
    "            node.left = leftRotate(node.left);\n",
    "            return rightRotate(node);\n",
    "        }\n",
    "    }\n",
    "    if (balanceFactor == -2) {\n",
    "        if (getBalanceFactor(node.right) == -1) {\n",
    "            return leftRotate(node);\n",
    "        } else if (getBalanceFactor(node.right) == 1) {\n",
    "            node.right = rightRotate(node.right);\n",
    "            return leftRotate(node);\n",
    "        }\n",
    "    }\n",
    "    return node;\n",
    "}"
   ]
  },
  {
   "cell_type": "markdown",
   "metadata": {},
   "source": [
    "##### 3.3 Insert"
   ]
  },
  {
   "cell_type": "code",
   "execution_count": null,
   "metadata": {},
   "outputs": [],
   "source": [
    "private AVLNode<T> insert(AVLNode<T> root, T x) {\n",
    "    if (root == null) {\n",
    "        return new AVLNode<T>(x);\n",
    "    }\n",
    "    if (x < root.value) {\n",
    "        root.left = insert(root.left, x);\n",
    "    } else {\n",
    "        root.right = insert(root.right, x);\n",
    "    }\n",
    "    updateHeight(root);\n",
    "    root = balance(root);\n",
    "    return root;\n",
    "}"
   ]
  },
  {
   "cell_type": "markdown",
   "metadata": {},
   "source": [
    "##### 3.4 Remove"
   ]
  },
  {
   "cell_type": "code",
   "execution_count": null,
   "metadata": {},
   "outputs": [],
   "source": [
    "public AVLNode<T> remove(AVLNode<T> root, T x) {\n",
    "    if (root == null) {\n",
    "        return null;\n",
    "    }\n",
    "    if (x < root.value) {\n",
    "        root.left = remove(root.left, x);\n",
    "    } else if (x > root.value) {\n",
    "        root.right = remove(root.right, x);\n",
    "    } else {\n",
    "        if (root.left == null) {\n",
    "            return root.right;\n",
    "        } else if (root.right == null) {\n",
    "            return root.left;\n",
    "        }\n",
    "        root.value = findMin(root.right);\n",
    "        root.right = remove(root.right, root.value);\n",
    "    }\n",
    "    updateHeight(root);\n",
    "    root = balance(root);\n",
    "    return root;\n",
    "}\n",
    "\n",
    "private T findMin(BSTNode<T> root) {\n",
    "    if (root.left == null) {\n",
    "        return root.value;\n",
    "    }\n",
    "    return findMin(root.left);\n",
    "}"
   ]
  },
  {
   "cell_type": "markdown",
   "metadata": {},
   "source": [
    "# 4. Heap"
   ]
  },
  {
   "cell_type": "markdown",
   "metadata": {},
   "source": [
    "##### 4.1 Structure"
   ]
  },
  {
   "cell_type": "code",
   "execution_count": null,
   "metadata": {},
   "outputs": [],
   "source": [
    "class MaxHeap<T> {\n",
    "    private T[] data;\n",
    "    private int size;\n",
    "\n",
    "    public MaxHeap(int capacity) {\n",
    "        this.data = (T[]) new Object[capacity];\n",
    "        this.data[0] = null;\n",
    "        this.size = 0;\n",
    "    }\n",
    "}"
   ]
  },
  {
   "cell_type": "markdown",
   "metadata": {},
   "source": [
    "##### 4.2 Insert"
   ]
  },
  {
   "cell_type": "code",
   "execution_count": null,
   "metadata": {},
   "outputs": [],
   "source": [
    "public void push(int x) {\n",
    "    int i = ++this.size;\n",
    "    for(; i > 0 && this.data[i / 2] < x; i /= 2) {\n",
    "        this.data[i] = this.data[i / 2];\n",
    "    }\n",
    "    this.data[i] = x;\n",
    "}"
   ]
  },
  {
   "cell_type": "markdown",
   "metadata": {},
   "source": [
    "##### 4.3 Delete"
   ]
  },
  {
   "cell_type": "code",
   "execution_count": null,
   "metadata": {},
   "outputs": [],
   "source": [
    "public T pop() {\n",
    "    T max = this.data[1];\n",
    "    T tmp = this.data[this.size--];\n",
    "    int parent;\n",
    "    int child;\n",
    "    for (parent = 1; parent * 2 <= this.size; parent = child) {\n",
    "        child = parent * 2;\n",
    "        if (child != this.size && this.data[child] < this.data[child + 1]) {\n",
    "            child++;\n",
    "        }\n",
    "        if (tmp >= this.data[child]) {\n",
    "            break;\n",
    "        } else {\n",
    "            this.data[parent] = this.data[child];\n",
    "        }\n",
    "    }\n",
    "    this.data[parent] = tmp;\n",
    "    return max;\n",
    "}"
   ]
  },
  {
   "cell_type": "markdown",
   "metadata": {},
   "source": [
    "##### 5.1 (Red Black Tree)Structure"
   ]
  },
  {
   "cell_type": "code",
   "execution_count": null,
   "metadata": {},
   "outputs": [],
   "source": [
    "public class RedBlackTree<T> {\n",
    "    private static final boolean RED = true;\n",
    "    private static final boolean BLACK = false;\n",
    "\n",
    "    private class RBTNode {\n",
    "        T data;\n",
    "        Node left;\n",
    "        Node right;\n",
    "        boolean color;\n",
    "\n",
    "        RBTNode(T data) {\n",
    "            this.data = data;\n",
    "            this.left = null;\n",
    "            this.right = null;\n",
    "            this.color = RED;\n",
    "        }\n",
    "    }\n",
    "}"
   ]
  }
 ],
 "metadata": {
  "kernelspec": {
   "display_name": "Java",
   "language": "java",
   "name": "java"
  },
  "language_info": {
   "name": "java"
  }
 },
 "nbformat": 4,
 "nbformat_minor": 2
}
