{
 "cells": [
  {
   "cell_type": "markdown",
   "metadata": {},
   "source": [
    "# 1. Binary Tree"
   ]
  },
  {
   "cell_type": "markdown",
   "metadata": {},
   "source": [
    "##### 1.1 Structure"
   ]
  },
  {
   "cell_type": "code",
   "execution_count": null,
   "metadata": {
    "vscode": {
     "languageId": "java"
    }
   },
   "outputs": [],
   "source": [
    "class TreeNode {\n",
    "    int value;\n",
    "    TreeNode brother;\n",
    "    TreeNode child;\n",
    "\n",
    "    public TreeNode(int value) {\n",
    "        this.value = value;\n",
    "        this.brother = null;\n",
    "        this.child = null;\n",
    "    }\n",
    "}"
   ]
  },
  {
   "cell_type": "markdown",
   "metadata": {},
   "source": [
    "##### 1.2 Preorder Traversal"
   ]
  },
  {
   "cell_type": "code",
   "execution_count": null,
   "metadata": {
    "vscode": {
     "languageId": "java"
    }
   },
   "outputs": [],
   "source": [
    "public void preorder(TreeNode node, List<Integer> result) {\n",
    "        if (node == null) {\n",
    "            return;\n",
    "        }\n",
    "        result.add(node.val);\n",
    "        preorder(node.left, result);\n",
    "        preorder(node.right, result);\n",
    "}"
   ]
  },
  {
   "cell_type": "markdown",
   "metadata": {},
   "source": [
    "##### 1.3 Inorder Traversal"
   ]
  },
  {
   "cell_type": "code",
   "execution_count": null,
   "metadata": {
    "vscode": {
     "languageId": "java"
    }
   },
   "outputs": [],
   "source": [
    "private void inorder(TreeNode node, List<Integer> result) {\n",
    "        if (node == null) {\n",
    "            return;\n",
    "        }\n",
    "        inorder(node.left, result);\n",
    "        result.add(node.val);\n",
    "        inorder(node.right, result);\n",
    "    }"
   ]
  },
  {
   "cell_type": "markdown",
   "metadata": {},
   "source": [
    "##### 1.4 Postorder Traversal"
   ]
  },
  {
   "cell_type": "code",
   "execution_count": null,
   "metadata": {
    "vscode": {
     "languageId": "java"
    }
   },
   "outputs": [],
   "source": [
    "private void postorder(TreeNode node, List<Integer> result) {\n",
    "        if (node == null) {\n",
    "            return;\n",
    "        }\n",
    "        postorder(node.left, result);\n",
    "        postorder(node.right, result);\n",
    "        result.add(node.val);\n",
    "    }"
   ]
  },
  {
   "cell_type": "markdown",
   "metadata": {},
   "source": [
    "##### 1.5 Level order Traversal"
   ]
  },
  {
   "cell_type": "code",
   "execution_count": null,
   "metadata": {
    "vscode": {
     "languageId": "java"
    }
   },
   "outputs": [],
   "source": [
    "public List<List<Integer>> levelOrder(TreeNode root) {\n",
    "    \n",
    "        List<List<Integer>> result = new ArrayList<List<Integer>>();\n",
    "\n",
    "        if (root == null) {\n",
    "            return result;\n",
    "        }\n",
    "\n",
    "        Queue<TreeNode> queue = new LinkedList<TreeNode>();\n",
    "        queue.offer(root); // root node to queue\n",
    "\n",
    "        while (!queue.isEmpty()) {\n",
    "            List<Integer> level = new ArrayList<Integer>();\n",
    "            int size = queue.size(); // size of level\n",
    "\n",
    "            for (int i = 1; i <= size; i++) { \n",
    "                TreeNode node = queue.poll();\n",
    "                level.add(node.val);\n",
    "\n",
    "                if (node.left != null) {\n",
    "                    queue.offer(node.left); // add l/r nodes to queue\n",
    "                }\n",
    "                if (node.right != null) {\n",
    "                    queue.offer(node.right); // add l/r nodes to queue\n",
    "                }\n",
    "\n",
    "            }\n",
    "\n",
    "            result.add(level);\n",
    "        }\n",
    "\n",
    "        return result;\n",
    "    }"
   ]
  }
 ],
 "metadata": {
  "language_info": {
   "name": "python"
  }
 },
 "nbformat": 4,
 "nbformat_minor": 2
}
